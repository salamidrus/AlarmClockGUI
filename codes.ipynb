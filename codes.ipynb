{
 "cells": [
  {
   "cell_type": "markdown",
   "metadata": {},
   "source": [
    "# Alarm Clock with GUI"
   ]
  },
  {
   "cell_type": "markdown",
   "metadata": {},
   "source": [
    "### Project File Structure\n",
    "- Importing all the libraries and modules required\n",
    "- Putting forward a while loop which takes the argument of the time, the user wants to set the alarm on and automatically breaks when the time is up, with sound\n",
    "- Create a display window for user input."
   ]
  },
  {
   "cell_type": "markdown",
   "metadata": {},
   "source": [
    "#### 1. Import all the libraries and modules"
   ]
  },
  {
   "cell_type": "code",
   "execution_count": 1,
   "metadata": {},
   "outputs": [],
   "source": [
    "from tkinter import *\n",
    "import datetime\n",
    "import time\n",
    "import winsound"
   ]
  },
  {
   "cell_type": "markdown",
   "metadata": {},
   "source": [
    "##### Explanation: \n",
    "- **Tkinter** module belongs to a standard library of GUI in Python. It helps us to create a dialog box with any information that we want to provide or get from the users.\n",
    "- **Datetime** and **time** modules in python help us to work with the dates and time of the current day when the user is operating python and to manipulate it too.\n",
    "- **Winsound** module provides access to the basic sound playing machinery provided by Windows platforms. This is useful to generate the sound immediately when a function is called."
   ]
  },
  {
   "cell_type": "markdown",
   "metadata": {},
   "source": [
    "#### 2. Create the while loop"
   ]
  },
  {
   "cell_type": "code",
   "execution_count": 2,
   "metadata": {},
   "outputs": [],
   "source": [
    "def alarm(set_alarm_timer):\n",
    "    while True:\n",
    "        time.sleep(1) \n",
    "        current_time = datetime.datetime.now()\n",
    "        now = current_time.strftime(\"%H:%M:%S\")\n",
    "        date = current_time.strftime(\"%d/%m/%Y\")\n",
    "        print(\"The Set Date is:\", date)\n",
    "        print(now)\n",
    "        if now == set_alarm_timer:\n",
    "            print(\"Time to Wake up\")\n",
    "        winsound.PlaySound(\"sound.wav\",winsound.SND_ASYNC)\n",
    "        break\n",
    "        \n",
    "def actual_time():\n",
    "    set_alarm_timer = f\"{hour.get()}:{min.get()}:{sec.get()}\"\n",
    "    alarm(set_alarm_timer)"
   ]
  },
  {
   "cell_type": "markdown",
   "metadata": {},
   "source": [
    "##### Explanation: \n",
    "- Define a function named as **alarm()** which takes the argument of (**set_alarm_timer**).It contains a while loop with a Boolean function True which makes the program automatic to work.\n",
    "- **time.sleep(1)** halts the execution of the further commands given until we get the time value from the user later in the code and returns the background thread of the clock time going on at a regular interval.\n",
    "- Get the current time using **current_time** which takes the argument of **datetime.datetime.now()**.\n",
    "- now is used to print the time and date is used to print the current date by **string conversion** using **strftime()**.\n",
    "- Define another function here named **actual_time()** which takes in the user value for setting the alarm in the string format. The same argument of (**set_alarm_timer**) as alarm before to execute the while loop which we further use while making GUI.\n",
    "- If loop suggests that if the user input time **set_alarm_timer** matches with the while loop ongoing time now, the message is printed as **”Time to Wake up”**.\n",
    "- **winsound.SND_ASYNC plays** the system generated sound as soon the condition satisfies, acting as a reminder for the alarm clock."
   ]
  },
  {
   "cell_type": "markdown",
   "metadata": {},
   "source": [
    "#### 3. Create GUI using tkinter"
   ]
  },
  {
   "cell_type": "code",
   "execution_count": null,
   "metadata": {},
   "outputs": [],
   "source": [
    "# Creating GUI with tkinter\n",
    "clock = Tk()\n",
    "clock.title(\"Idrus' Alarm Clock\")\n",
    "clock.geometry(\"500x300\")\n",
    "\n",
    "time_format = Label(clock, text=\"Enter time in 24 hour format:\", fg=\"red\", bg=\"black\", font=\"Arial\").place(x=60,y=120)\n",
    "addTime = Label(clock, text=\"Hour Min Sec\", font=60).place(x=110)\n",
    "setYourAlarm = Label(clock,text= \"When to wake you up\",fg=\"blue\",relief=\"solid\",font=(\"Helvetica\",7,\"bold\")).place(x=0, y=29)\n",
    "\n",
    "# The required variables to set the alarm (Initialization)\n",
    "hour = StringVar()\n",
    "min = StringVar()\n",
    "sec = StringVar()\n",
    "\n",
    "# Time required to set the alarm clock\n",
    "hourTime = Entry(clock, textvariable = hour, bg = \"pink\", width = 15).place(x=110,y=30)\n",
    "minTime = Entry(clock, textvariable = min, bg = \"pink\", width = 15).place(x=150, y=30)\n",
    "secTime = Entry(clock, textvariable = sec, bg = \"pink\", width = 15).place(x=200, y=30)\n",
    "\n",
    "# To take the time input by user\n",
    "submit = Button(clock, text=\"Set Alarm\",fg=\"red\",width=10,command= actual_time).place(x= 110, y =70)\n",
    "\n",
    "clock.mainloop()\n",
    "# Execute the window"
   ]
  },
  {
   "cell_type": "markdown",
   "metadata": {},
   "source": [
    "##### Explanation\n",
    "- To Initialize tkinter, we pass a command under the name clock as **Tk()**.\n",
    "- The dialog box has the title as DataFlair Alarm Clock with a geometry of (400*200). We pass on the heading to mention the time format for 24 hours using **time_format**.\n",
    "- The second heading is given above the user input boxes for the labeling to be “Hour Min Sec” using **addTime**.\n",
    "- Just to make the dialog box look funkier, adding another label as **“when to wake you up”** using **setYourAlarm**.\n",
    "- As we have already converted the current time in the string before (actual time), the variables we initialize for the user input dialog boxes are in **StringVar()**.\n",
    "- Finally make the input boxes such as **hourTime**, **minTime**, and **secTime** which takes the entry of the time the user wants to set the alarm on in 24-hour format.\n",
    "- Submit takes the command of the defined function **actual_time** and executes the clock as it acts as a set button to start the program.\n",
    "- **Clock.mainloop()** is the basic and the last command was given to compile all the previous commands with their basic settings of color, font, width, axis, etc. and displays the window as soon as the program is run."
   ]
  },
  {
   "cell_type": "markdown",
   "metadata": {},
   "source": [
    "### Output"
   ]
  },
  {
   "cell_type": "markdown",
   "metadata": {},
   "source": [
    "The alarm clock is ready for execution for your next work nap 😉. Save the source code with alarm-clock.py and run the file"
   ]
  },
  {
   "cell_type": "markdown",
   "metadata": {},
   "source": [
    "- python alarm-clock.py"
   ]
  },
  {
   "attachments": {
    "output.PNG": {
     "image/png": "[encoded data removed]"
    }
   },
   "cell_type": "markdown",
   "metadata": {},
   "source": [
    "![output.PNG](attachment:output.PNG)"
   ]
  },
  {
   "cell_type": "code",
   "execution_count": null,
   "metadata": {},
   "outputs": [],
   "source": []
  }
 ],
 "metadata": {
  "kernelspec": {
   "display_name": "Python 3",
   "language": "python",
   "name": "python3"
  },
  "language_info": {
   "codemirror_mode": {
    "name": "ipython",
    "version": 3
   },
   "file_extension": ".py",
   "mimetype": "text/x-python",
   "name": "python",
   "nbconvert_exporter": "python",
   "pygments_lexer": "ipython3",
   "version": "3.7.6"
  }
 },
 "nbformat": 4,
 "nbformat_minor": 4
}
